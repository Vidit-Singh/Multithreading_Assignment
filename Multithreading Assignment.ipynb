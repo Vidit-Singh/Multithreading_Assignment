{
 "cells": [
  {
   "cell_type": "markdown",
   "id": "5b9e6fe3-aaf1-472a-8d45-231ae64f70ed",
   "metadata": {},
   "source": [
    "# Q1 What is multithreading in python? Why is it used? Name the module used to handle threads in python\n",
    "\n"
   ]
  },
  {
   "cell_type": "markdown",
   "id": "895e0213-b278-430b-bdcd-22e94ace752d",
   "metadata": {},
   "source": [
    "- Multithreading in Python refers to the ability of a program to execute multiple threads concurrently. A thread is a lightweight process, and multithreading allows multiple tasks to be performed at the same time within a single process.\n",
    "\n",
    "- It's used primarily for tasks that can be executed independently and concurrently, such as I/O bound operations (like network requests or file operations) or tasks that can be parallelized, but it's important to note that Python's Global Interpreter Lock (GIL) can limit the effectiveness of multithreading for CPU-bound tasks.\n",
    "\n",
    "- The threading module is used to handle threads in Python. It provides a high-level interface for creating and managing threads, allowing developers to start, join, and manage threads easily."
   ]
  },
  {
   "cell_type": "code",
   "execution_count": null,
   "id": "ba26a837-2b1a-42d4-86b7-2bbbb0783fd9",
   "metadata": {},
   "outputs": [],
   "source": []
  },
  {
   "cell_type": "markdown",
   "id": "762925b4-65a8-4967-8901-877d8c1419df",
   "metadata": {},
   "source": [
    "# Q2 Why threading module used? Write the use of the following functions:             activeCount() currentThread() enumerate()"
   ]
  },
  {
   "cell_type": "markdown",
   "id": "1b3e0a60-d958-4957-b91a-35244dfd134e",
   "metadata": {},
   "source": [
    "- The threading module in Python is used for creating, managing, and synchronizing threads in a Python program. It provides a high-level interface to work with threads, allowing developers to perform concurrent tasks efficiently. Here's the use of the functions mentioned :"
   ]
  },
  {
   "cell_type": "markdown",
   "id": "5d0c47a7-5e22-4982-b814-fc0ea2ac9015",
   "metadata": {},
   "source": [
    "- 1) activeCount(): This function returns the number of Thread objects currently alive. A Thread object represents a thread of execution in Python. The activeCount() function is useful for debugging or monitoring purposes to see how many threads are currently running."
   ]
  },
  {
   "cell_type": "code",
   "execution_count": 1,
   "id": "1150bf03-5472-413e-9954-d6166df3497f",
   "metadata": {},
   "outputs": [
    {
     "name": "stdout",
     "output_type": "stream",
     "text": [
      "This is my thread\n",
      "This is my thread\n",
      "This is my thread\n",
      "This is my thread\n",
      "This is my thread\n",
      "Number of active threads: 8\n"
     ]
    },
    {
     "name": "stderr",
     "output_type": "stream",
     "text": [
      "/tmp/ipykernel_1062/2462582226.py:22: DeprecationWarning: activeCount() is deprecated, use active_count() instead\n",
      "  num_active_threads = threading.activeCount()\n"
     ]
    }
   ],
   "source": [
    "# Importing the threading module to work with threads\n",
    "import threading\n",
    "\n",
    "# Create an empty list to store thread objects\n",
    "threads = []\n",
    "\n",
    "def my_function():\n",
    "    print('This is my thread')\n",
    "\n",
    "# Loop to create and start 5 threads\n",
    "for _ in range(5):\n",
    "    # Create a new thread object\n",
    "    t = threading.Thread(target=my_function)\n",
    "    \n",
    "    # Start the thread, which will execute the function specified in the target parameter\n",
    "    t.start()\n",
    "    \n",
    "    # Add the thread object to the list\n",
    "    threads.append(t)\n",
    "\n",
    "# Get the number of currently active threads\n",
    "num_active_threads = threading.activeCount()\n",
    "\n",
    "# Print the number of active threads\n",
    "print(\"Number of active threads:\", num_active_threads)\n"
   ]
  },
  {
   "cell_type": "markdown",
   "id": "9bff18a3-0ee9-4eac-8f20-1bc7fde785c0",
   "metadata": {},
   "source": [
    "- 2. currentThread(): This function returns the current Thread object representing the thread from which it is called. It's useful for getting information about the current thread, such as its name or identification."
   ]
  },
  {
   "cell_type": "code",
   "execution_count": 2,
   "id": "2336c060-ab16-4a22-8f6e-d1c4b3a85e08",
   "metadata": {},
   "outputs": [
    {
     "name": "stdout",
     "output_type": "stream",
     "text": [
      "Current Thread: Thread-10 (my_function)\n"
     ]
    },
    {
     "name": "stderr",
     "output_type": "stream",
     "text": [
      "/tmp/ipykernel_1062/1929601021.py:4: DeprecationWarning: currentThread() is deprecated, use current_thread() instead\n",
      "  current_thread = threading.currentThread()\n"
     ]
    }
   ],
   "source": [
    "import threading\n",
    "\n",
    "def my_function():\n",
    "    current_thread = threading.currentThread()\n",
    "    print(\"Current Thread:\", current_thread.name)\n",
    "\n",
    "# Create and start a thread\n",
    "t = threading.Thread(target=my_function)\n",
    "t.start()\n"
   ]
  },
  {
   "cell_type": "markdown",
   "id": "91618c1e-8344-47ed-a695-d8bdad1d3261",
   "metadata": {},
   "source": [
    "- 3. enumerate(): This function returns a list of all Thread objects currently alive. It's similar to activeCount(), but instead of just returning the count, it returns a list of Thread objects, which allows you to inspect each thread individually."
   ]
  },
  {
   "cell_type": "code",
   "execution_count": 3,
   "id": "5a4cc413-82ef-4b54-aab1-f9e860c2f589",
   "metadata": {},
   "outputs": [
    {
     "name": "stdout",
     "output_type": "stream",
     "text": [
      "Hello from thread: Thread-11 (my_function)\n",
      "Hello from thread: Thread-12 (my_function)\n",
      "Hello from thread: Thread-13 (my_function)\n",
      "Thread name: MainThread\n",
      "Thread name: IOPub\n",
      "Thread name: Heartbeat\n",
      "Thread name: Thread-3 (_watch_pipe_fd)\n",
      "Thread name: Thread-4 (_watch_pipe_fd)\n",
      "Thread name: Control\n",
      "Thread name: IPythonHistorySavingThread\n",
      "Thread name: Thread-2\n"
     ]
    },
    {
     "name": "stderr",
     "output_type": "stream",
     "text": [
      "/tmp/ipykernel_1062/3989040083.py:4: DeprecationWarning: currentThread() is deprecated, use current_thread() instead\n",
      "  print(\"Hello from thread:\", threading.currentThread().name)\n"
     ]
    }
   ],
   "source": [
    "import threading\n",
    "\n",
    "def my_function():\n",
    "    print(\"Hello from thread:\", threading.currentThread().name)\n",
    "\n",
    "# Create and start multiple threads\n",
    "threads = []\n",
    "for i in range(3):\n",
    "    t = threading.Thread(target=my_function)\n",
    "    t.start()\n",
    "    threads.append(t)\n",
    "\n",
    "# Enumerate through all active threads\n",
    "for thread in threading.enumerate():\n",
    "    print(\"Thread name:\", thread.name)\n"
   ]
  },
  {
   "cell_type": "code",
   "execution_count": null,
   "id": "f434b416-6806-49d0-8448-20a8aadad216",
   "metadata": {},
   "outputs": [],
   "source": []
  },
  {
   "cell_type": "markdown",
   "id": "5e3b58df-a559-4552-a593-62877e4f0d5d",
   "metadata": {},
   "source": [
    "# Q3. Explain the following functions run() start () join() isAlive() \n"
   ]
  },
  {
   "cell_type": "markdown",
   "id": "8bf8e86a-735d-455b-baf1-a1aaea90e35d",
   "metadata": {},
   "source": [
    "run():\n",
    "- The run() method is the entry point for the thread's activity.\n",
    "- When you subclass the Thread class and override the run() method, the code you place in the run() method will be executed in a separate thread when you call the start() method on an instance of your subclass.\n",
    "- You should override the run() method to define the behavior of your thread, specifying what tasks the thread should perform when it starts."
   ]
  },
  {
   "cell_type": "markdown",
   "id": "252f3caf-904d-4159-9b87-cd34ac1b2d03",
   "metadata": {},
   "source": [
    "start():\n",
    "- The start() method is used to begin the execution of the thread.\n",
    "- When you call start(), the Python interpreter initiates a new thread of execution, and the run() method of the thread begins executing in that separate thread.\n",
    "- It's important to note that you should not call the run() method directly; instead, you should call start(), which handles the creation of the new thread and starts its execution."
   ]
  },
  {
   "cell_type": "markdown",
   "id": "00b2d660-d5a6-4225-877a-4cf2091f1d08",
   "metadata": {},
   "source": [
    "join():\n",
    "- The join() method is used to wait for the thread to complete its execution.\n",
    "- When you call join() on a thread object, the program will block and wait until that thread has terminated before continuing execution in the main thread.\n",
    "- This method is particularly useful when you want to ensure that a thread has finished its work before proceeding further in your program, especially in cases where the main thread depends on the results or side effects of the thread's execution."
   ]
  },
  {
   "cell_type": "markdown",
   "id": "a3663a66-cb31-45b4-a1e5-f657bf9f620d",
   "metadata": {},
   "source": [
    "isAlive():\n",
    "- The isAlive() method returns a Boolean value indicating whether the thread is currently alive (i.e., actively executing) or has terminated.\n",
    "- If the thread is still running, isAlive() returns True; otherwise, it returns False.\n",
    "- This method is useful for checking the status of a thread, especially if you need to perform certain actions based on whether the thread is still active or has finished its execution."
   ]
  },
  {
   "cell_type": "code",
   "execution_count": null,
   "id": "e18f9f8f-2cca-4068-bb1e-0d184fcdaed8",
   "metadata": {},
   "outputs": [],
   "source": []
  },
  {
   "cell_type": "markdown",
   "id": "1f877e5b-1298-4ae0-861d-05fe6098f7d1",
   "metadata": {},
   "source": [
    "# Q4. rite a python program to create two threads. Thread one must print the list of squares and thread two must print the list of cubes"
   ]
  },
  {
   "cell_type": "code",
   "execution_count": 4,
   "id": "d5028876-724a-4167-95e4-c19ceefd0879",
   "metadata": {},
   "outputs": [
    {
     "name": "stdout",
     "output_type": "stream",
     "text": [
      "Square of 1: 1\n",
      "Square of 2: 4\n",
      "Square of 3: 9\n",
      "Square of 4: 16\n",
      "Square of 5: 25\n",
      "Cube of 1: 1\n",
      "Cube of 2: 8\n",
      "Cube of 3: 27\n",
      "Cube of 4: 64\n",
      "Cube of 5: 125\n",
      "Both threads have finished execution.\n"
     ]
    }
   ],
   "source": [
    "import threading\n",
    "\n",
    "# Function to print squares of numbers\n",
    "def print_squares():\n",
    "    for i in range(1, 6):\n",
    "        print(f\"Square of {i}: {i*i}\")\n",
    "\n",
    "# Function to print cubes of numbers\n",
    "def print_cubes():\n",
    "    for i in range(1, 6):\n",
    "        print(f\"Cube of {i}: {i*i*i}\")\n",
    "\n",
    "# Create the first thread for printing squares\n",
    "thread1 = threading.Thread(target=print_squares)\n",
    "\n",
    "# Create the second thread for printing cubes\n",
    "thread2 = threading.Thread(target=print_cubes)\n",
    "\n",
    "# Start both threads\n",
    "thread1.start()\n",
    "thread2.start()\n",
    "\n",
    "# Wait for both threads to finish\n",
    "thread1.join()\n",
    "thread2.join()\n",
    "\n",
    "print(\"Both threads have finished execution.\")\n"
   ]
  },
  {
   "cell_type": "code",
   "execution_count": null,
   "id": "54881260-a1ee-4a18-8157-cfea658928c9",
   "metadata": {},
   "outputs": [],
   "source": []
  },
  {
   "cell_type": "markdown",
   "id": "04db74cf-86b9-4a07-9974-4913009364f2",
   "metadata": {},
   "source": [
    "# Q5. State advantages and disadvantages of multithreading"
   ]
  },
  {
   "cell_type": "markdown",
   "id": "ec63f6c9-9747-47a7-bfd7-3febb72950e0",
   "metadata": {},
   "source": [
    "Advantages of Multithreading:\n",
    "\n",
    "- Concurrency: Multithreading allows multiple tasks to execute concurrently within the same process, enabling more efficient use of CPU resources. This is particularly beneficial in applications where multiple operations can be performed simultaneously, such as handling multiple client requests in a server application.\n",
    "- Improved Responsiveness: Multithreading can enhance the responsiveness of user interfaces and applications by allowing time-consuming tasks to be performed in the background without blocking the main thread. This helps prevent the user interface from becoming unresponsive or freezing during resource-intensive operations.\n",
    "- Resource Sharing: Threads within the same process can share resources such as memory space, files, and network connections, leading to more efficient resource utilization. This can result in reduced overhead compared to running multiple independent processes.\n",
    "- Simplified Design: Multithreading can simplify the design of complex applications by allowing developers to organize tasks as separate threads of execution within a single process. This can lead to cleaner and more modular code, making it easier to manage and maintain the application.\n",
    "- Scalability: Multithreading enables applications to scale more effectively to utilize multiple CPU cores and processors. By dividing tasks into multiple threads, applications can take advantage of parallelism to improve performance on multi-core systems."
   ]
  },
  {
   "cell_type": "markdown",
   "id": "7c8adf02-3ed7-420a-aca7-523106025fbb",
   "metadata": {},
   "source": [
    "Disadvantages of Multithreading:\n",
    "\n",
    "- Complexity: Multithreaded programming introduces additional complexity and challenges, such as race conditions, deadlocks, and synchronization issues. Managing shared resources and coordinating the execution of multiple threads requires careful design and can be error-prone.\n",
    "- Debugging and Testing: Identifying and diagnosing issues in multithreaded applications can be more challenging compared to single-threaded applications. Debugging tools and techniques for detecting concurrency-related bugs may be more complex and time-consuming.\n",
    "- Resource Overhead: Multithreading can incur additional overhead due to the creation, management, and synchronization of threads. This overhead includes increased memory usage, context switching between threads, and synchronization mechanisms such as locks and mutexes.\n",
    "- Potential for Bottlenecks: In some cases, multithreading may not lead to significant performance improvements or scalability due to factors such as shared resource contention or limitations imposed by the underlying hardware or operating system. This can result in bottlenecks that limit the effectiveness of multithreading.\n",
    "- Platform Dependence: Multithreading behavior and performance characteristics can vary across different operating systems and hardware platforms. Writing portable multithreaded code that behaves consistently across platforms may require additional effort and consideration."
   ]
  },
  {
   "cell_type": "code",
   "execution_count": null,
   "id": "fe153929-798f-47fd-b390-742de43705ab",
   "metadata": {},
   "outputs": [],
   "source": []
  },
  {
   "cell_type": "markdown",
   "id": "a5961886-32e1-4397-af75-e5af07439b38",
   "metadata": {},
   "source": [
    "# Q6. Explain deadlocks and race conditions."
   ]
  },
  {
   "cell_type": "markdown",
   "id": "68f26668-5897-4415-ba5b-2d6e8731f01b",
   "metadata": {},
   "source": [
    "Deadlocks:\n",
    "\n",
    " A deadlock is a situation in concurrent programming where two or more threads are each waiting for the other to release a resource, preventing all threads involved from making progress. Deadlocks typically occur in multithreaded programs that use locks or mutexes to synchronize access to shared resources. There are four necessary conditions for a deadlock to occur:\n",
    "\n",
    "- 1.Mutual Exclusion: At least one resource must be held in a mutually exclusive manner, meaning only one thread can access it at a time.\n",
    "- 2.Hold and Wait: A thread must hold at least one resource and be waiting to acquire additional resources that are currently held by other threads.\n",
    "- 3.No Preemption: Resources cannot be forcibly taken away from threads that hold them; they must be released voluntarily.\n",
    "- 4.Circular Wait: There must exist a circular chain of two or more threads, each holding a resource that the next thread in the chain requires"
   ]
  },
  {
   "cell_type": "code",
   "execution_count": null,
   "id": "a949e26f-5dc9-4756-802f-f3c3aebe6506",
   "metadata": {},
   "outputs": [],
   "source": []
  }
 ],
 "metadata": {
  "kernelspec": {
   "display_name": "Python 3 (ipykernel)",
   "language": "python",
   "name": "python3"
  },
  "language_info": {
   "codemirror_mode": {
    "name": "ipython",
    "version": 3
   },
   "file_extension": ".py",
   "mimetype": "text/x-python",
   "name": "python",
   "nbconvert_exporter": "python",
   "pygments_lexer": "ipython3",
   "version": "3.10.8"
  }
 },
 "nbformat": 4,
 "nbformat_minor": 5
}
